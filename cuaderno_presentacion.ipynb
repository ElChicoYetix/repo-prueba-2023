{
 "cells": [
  {
   "cell_type": "markdown",
   "id": "86f9dddb",
   "metadata": {},
   "source": [
    "# Introducción\n",
    "[Wikipedia](https://www.wikipedia.org/)"
   ]
  },
  {
   "attachments": {},
   "cell_type": "markdown",
   "id": "d1b1f496",
   "metadata": {},
   "source": [
    "![imagen](https://www.iteso.mx/documents/27014/202031/Logo-ITESO-MinimoV.png)"
   ]
  },
  {
   "cell_type": "markdown",
   "id": "27ef69e9",
   "metadata": {},
   "source": [
    "1. Primer item\n",
    "2. Segundo\n",
    "3. Tercero\n",
    "\n",
    "+ Item no numerado\n",
    "- Segundo item no numerado"
   ]
  },
  {
   "cell_type": "markdown",
   "id": "9442d7c4",
   "metadata": {},
   "source": [
    "```\n",
    "import pandas as pd\n",
    "import numpy as np\n",
    "import malplotlib.pyplot as plt\n",
    "```"
   ]
  },
  {
   "cell_type": "code",
   "execution_count": null,
   "id": "a4286fd9",
   "metadata": {},
   "outputs": [],
   "source": []
  }
 ],
 "metadata": {
  "kernelspec": {
   "display_name": "Python 3 (ipykernel)",
   "language": "python",
   "name": "python3"
  },
  "language_info": {
   "codemirror_mode": {
    "name": "ipython",
    "version": 3
   },
   "file_extension": ".py",
   "mimetype": "text/x-python",
   "name": "python",
   "nbconvert_exporter": "python",
   "pygments_lexer": "ipython3",
   "version": "3.9.10"
  }
 },
 "nbformat": 4,
 "nbformat_minor": 5
}
